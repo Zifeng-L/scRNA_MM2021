{
 "cells": [
  {
   "cell_type": "code",
   "execution_count": null,
   "metadata": {
    "ExecuteTime": {
     "end_time": "2020-06-22T02:13:25.483656Z",
     "start_time": "2020-06-22T02:13:02.895314Z"
    }
   },
   "outputs": [],
   "source": [
    "import os, glob, re, pickle\n",
    "from functools import partial\n",
    "from collections import OrderedDict\n",
    "import operator as op\n",
    "from cytoolz import compose\n",
    "\n",
    "import pandas as pd\n",
    "import seaborn as sns\n",
    "import numpy as np\n",
    "import scanpy as sc\n",
    "import anndata as ad\n",
    "import matplotlib as mpl\n",
    "import matplotlib.pyplot as plt\n",
    "\n",
    "from pyscenic.export import export2loom, add_scenic_metadata\n",
    "from pyscenic.utils import load_motifs\n",
    "from pyscenic.transform import df2regulons\n",
    "from pyscenic.aucell import aucell\n",
    "from pyscenic.binarization import binarize\n",
    "from pyscenic.rss import regulon_specificity_scores\n",
    "from pyscenic.plotting import plot_binarization, plot_rss\n",
    "\n",
    "from IPython.display import HTML, display"
   ]
  },
  {
   "cell_type": "code",
   "execution_count": null,
   "metadata": {
    "ExecuteTime": {
     "end_time": "2020-06-22T02:13:25.494512Z",
     "start_time": "2020-06-22T02:13:25.491845Z"
    }
   },
   "outputs": [],
   "source": [
    "# Set maximum number of jobs for Scanpy.\n",
    "sc.settings.njobs = 8"
   ]
  },
  {
   "cell_type": "code",
   "execution_count": null,
   "metadata": {
    "ExecuteTime": {
     "end_time": "2020-06-22T02:13:25.539268Z",
     "start_time": "2020-06-22T02:13:25.500908Z"
    }
   },
   "outputs": [],
   "source": [
    "AUXILLIARIES_FOLDERNAME = \"../PublicDB/Rcistarget/\"\n",
    "RESULTS_FOLDERNAME = \"../MM_analysis/scenic/\"\n",
    "FIGURES_FOLDERNAME = \"../MM_analysis/scenic/\""
   ]
  },
  {
   "cell_type": "code",
   "execution_count": null,
   "metadata": {
    "ExecuteTime": {
     "end_time": "2020-06-22T02:13:25.552065Z",
     "start_time": "2020-06-22T02:13:25.548577Z"
    }
   },
   "outputs": [],
   "source": [
    "sc.settings.figdir = FIGURES_FOLDERNAME"
   ]
  },
  {
   "cell_type": "code",
   "execution_count": null,
   "metadata": {
    "ExecuteTime": {
     "end_time": "2020-06-22T02:13:25.577314Z",
     "start_time": "2020-06-22T02:13:25.574064Z"
    }
   },
   "outputs": [],
   "source": [
    "BASE_URL = \"http://motifcollections.aertslab.org/v9/logos/\"\n",
    "COLUMN_NAME_LOGO = \"MotifLogo\"\n",
    "COLUMN_NAME_MOTIF_ID = \"MotifID\"\n",
    "COLUMN_NAME_TARGETS = \"TargetGenes\""
   ]
  },
  {
   "cell_type": "code",
   "execution_count": null,
   "metadata": {
    "ExecuteTime": {
     "end_time": "2020-06-22T02:16:32.362053Z",
     "start_time": "2020-06-22T02:16:32.355487Z"
    }
   },
   "outputs": [],
   "source": [
    "def savesvg(fname: str, fig, folder: str=FIGURES_FOLDERNAME) -> None:\n",
    "    \"\"\"\n",
    "    Save figure as vector-based SVG image format.\n",
    "    \"\"\"\n",
    "    fig.tight_layout()\n",
    "    fig.savefig(os.path.join(folder, fname), format='svg')"
   ]
  },
  {
   "cell_type": "code",
   "execution_count": null,
   "metadata": {
    "ExecuteTime": {
     "end_time": "2020-06-22T02:16:33.621671Z",
     "start_time": "2020-06-22T02:16:33.609130Z"
    }
   },
   "outputs": [],
   "source": [
    "def display_logos(df: pd.DataFrame, top_target_genes: int = 3, base_url: str = BASE_URL):\n",
    "    \"\"\"\n",
    "    :param df:\n",
    "    :param base_url:\n",
    "    \"\"\"\n",
    "    # Make sure the original dataframe is not altered.\n",
    "    df = df.copy()\n",
    "    \n",
    "    # Add column with URLs to sequence logo.\n",
    "    def create_url(motif_id):\n",
    "        return '<img src=\"{}{}.png\" style=\"max-height:124px;\"></img>'.format(base_url, motif_id)\n",
    "    df[(\"Enrichment\", COLUMN_NAME_LOGO)] = list(map(create_url, df.index.get_level_values(COLUMN_NAME_MOTIF_ID)))\n",
    "    \n",
    "    # Truncate TargetGenes.\n",
    "    def truncate(col_val):\n",
    "        return sorted(col_val, key=op.itemgetter(1))[:top_target_genes]\n",
    "    df[(\"Enrichment\", COLUMN_NAME_TARGETS)] = list(map(truncate, df[(\"Enrichment\", COLUMN_NAME_TARGETS)]))\n",
    "    \n",
    "    MAX_COL_WIDTH = pd.get_option('display.max_colwidth')\n",
    "    pd.set_option('display.max_colwidth', -1)\n",
    "    display(HTML(df.head().to_html(escape=False)))\n",
    "    pd.set_option('display.max_colwidth', MAX_COL_WIDTH)"
   ]
  },
  {
   "cell_type": "code",
   "execution_count": null,
   "metadata": {
    "ExecuteTime": {
     "end_time": "2020-06-22T02:16:36.282827Z",
     "start_time": "2020-06-22T02:16:36.276549Z"
    }
   },
   "outputs": [],
   "source": [
    "# Downloaded fromm pySCENIC github repo: https://github.com/aertslab/pySCENIC/tree/master/resources\n",
    "HUMAN_TFS_FNAME = os.path.join(AUXILLIARIES_FOLDERNAME, 'lambert2018.txt')\n",
    "# Ranking databases. Downloaded from cisTargetDB: https://resources.aertslab.org/cistarget/\n",
    "RANKING_DBS_FNAMES = list(map(lambda fn: os.path.join(AUXILLIARIES_FOLDERNAME, fn),\n",
    "                       ['hg38__refseq-r80__500bp_up_and_100bp_down_tss.mc9nr.feather',\n",
    "                       'hg38__refseq-r80__10kb_up_and_down_tss.mc9nr.feather']))\n",
    "# Motif annotations. Downloaded from cisTargetDB: https://resources.aertslab.org/cistarget/\n",
    "MOTIF_ANNOTATIONS_FNAME = os.path.join(AUXILLIARIES_FOLDERNAME, 'motifs-v9-nr.hgnc-m0.001-o0.0.tbl')"
   ]
  },
  {
   "cell_type": "markdown",
   "metadata": {},
   "source": [
    "# STEP 0: Preprocessing"
   ]
  },
  {
   "cell_type": "code",
   "execution_count": null,
   "metadata": {
    "ExecuteTime": {
     "end_time": "2020-06-22T02:16:43.212398Z",
     "start_time": "2020-06-22T02:16:43.201039Z"
    }
   },
   "outputs": [],
   "source": [
    "DATASET_ID = \"MM_raw\"\n",
    "METADATA_FNAME = os.path.join(RESULTS_FOLDERNAME, '{}.metadata.csv'.format(DATASET_ID))\n",
    "EXP_MTX_QC_FNAME = os.path.join(RESULTS_FOLDERNAME, '{}.qc.tpm.csv'.format(DATASET_ID))\n",
    "ADJACENCIES_FNAME = os.path.join(RESULTS_FOLDERNAME, '{}.adjacencies.tsv'.format(DATASET_ID))\n",
    "MOTIFS_FNAME = os.path.join(RESULTS_FOLDERNAME, '{}.motifs.csv'.format(DATASET_ID))\n",
    "REGULONS_DAT_FNAME = os.path.join(RESULTS_FOLDERNAME, '{}.regulons.dat'.format(DATASET_ID))\n",
    "AUCELL_MTX_FNAME = os.path.join(RESULTS_FOLDERNAME, '{}.auc.csv'.format(DATASET_ID))\n",
    "BIN_MTX_FNAME = os.path.join(RESULTS_FOLDERNAME, '{}.bin.csv'.format(DATASET_ID))\n",
    "THR_FNAME = os.path.join(RESULTS_FOLDERNAME, '{}.thresholds.csv'.format(DATASET_ID))\n",
    "ANNDATA_FNAME = os.path.join(RESULTS_FOLDERNAME, '{}.h5ad'.format(DATASET_ID))\n",
    "LOOM_FNAME = os.path.join(RESULTS_FOLDERNAME, '{}.loom'.format(DATASET_ID))"
   ]
  },
  {
   "cell_type": "markdown",
   "metadata": {},
   "source": [
    "# STEP 1: Network inference based on GRNBoost2 from CLI"
   ]
  },
  {
   "cell_type": "code",
   "execution_count": null,
   "metadata": {
    "ExecuteTime": {
     "end_time": "2020-06-09T16:19:22.005137Z",
     "start_time": "2020-06-09T09:58:55.562367Z"
    },
    "scrolled": true
   },
   "outputs": [],
   "source": [
    "!/sibcb1/mxqianlab1/zfli/apps/pySCENIC-master/scripts/arboreto_with_multiprocessing.py \\\n",
    "    {EXP_MTX_QC_FNAME} \\\n",
    "    {HUMAN_TFS_FNAME} \\\n",
    "    --method grnboost2 \\\n",
    "    --output {ADJACENCIES_FNAME} \\\n",
    "    --num_workers 20 \\\n",
    "    --seed 777"
   ]
  },
  {
   "cell_type": "markdown",
   "metadata": {},
   "source": [
    "# STEP 2-3: Regulon prediction aka cisTarget from CLI"
   ]
  },
  {
   "cell_type": "code",
   "execution_count": null,
   "metadata": {},
   "outputs": [],
   "source": [
    "DBS_PARAM = ' '.join(RANKING_DBS_FNAMES)\n",
    "DBS_PARAM"
   ]
  },
  {
   "cell_type": "code",
   "execution_count": null,
   "metadata": {},
   "outputs": [],
   "source": [
    "!pyscenic ctx \\\n",
    "    {grn_output} \\\n",
    "    {DBS_PARAM} \\\n",
    "    --annotations_fname {MOTIF_ANNOTATIONS_FNAME} \\\n",
    "    --expression_mtx_fname {f_loom_path_scenic} \\\n",
    "    --output {ctx_output} \\\n",
    "    --mask_dropouts \\\n",
    "    --num_workers 16"
   ]
  }
 ],
 "metadata": {
  "kernelspec": {
   "display_name": "Python 3",
   "language": "python",
   "name": "python3"
  },
  "language_info": {
   "codemirror_mode": {
    "name": "ipython",
    "version": 3
   },
   "file_extension": ".py",
   "mimetype": "text/x-python",
   "name": "python",
   "nbconvert_exporter": "python",
   "pygments_lexer": "ipython3",
   "version": "3.6.10"
  },
  "toc": {
   "base_numbering": 1,
   "nav_menu": {},
   "number_sections": true,
   "sideBar": false,
   "skip_h1_title": false,
   "title_cell": "Table of Contents",
   "title_sidebar": "Contents",
   "toc_cell": false,
   "toc_position": {},
   "toc_section_display": true,
   "toc_window_display": false
  },
  "varInspector": {
   "cols": {
    "lenName": 16,
    "lenType": 16,
    "lenVar": 40
   },
   "kernels_config": {
    "python": {
     "delete_cmd_postfix": "",
     "delete_cmd_prefix": "del ",
     "library": "var_list.py",
     "varRefreshCmd": "print(var_dic_list())"
    },
    "r": {
     "delete_cmd_postfix": ") ",
     "delete_cmd_prefix": "rm(",
     "library": "var_list.r",
     "varRefreshCmd": "cat(var_dic_list()) "
    }
   },
   "types_to_exclude": [
    "module",
    "function",
    "builtin_function_or_method",
    "instance",
    "_Feature"
   ],
   "window_display": false
  }
 },
 "nbformat": 4,
 "nbformat_minor": 1
}
